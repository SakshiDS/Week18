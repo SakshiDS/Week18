{
 "cells": [
  {
   "cell_type": "code",
   "execution_count": 2,
   "id": "f19f59d3",
   "metadata": {},
   "outputs": [],
   "source": [
    "import numpy as np\n",
    "import pandas as pd\n",
    "\n",
    "import torch"
   ]
  },
  {
   "cell_type": "code",
   "execution_count": 3,
   "id": "89469d4e",
   "metadata": {},
   "outputs": [
    {
     "data": {
      "text/html": [
       "<div>\n",
       "<style scoped>\n",
       "    .dataframe tbody tr th:only-of-type {\n",
       "        vertical-align: middle;\n",
       "    }\n",
       "\n",
       "    .dataframe tbody tr th {\n",
       "        vertical-align: top;\n",
       "    }\n",
       "\n",
       "    .dataframe thead th {\n",
       "        text-align: right;\n",
       "    }\n",
       "</style>\n",
       "<table border=\"1\" class=\"dataframe\">\n",
       "  <thead>\n",
       "    <tr style=\"text-align: right;\">\n",
       "      <th></th>\n",
       "      <th>Pregnancies</th>\n",
       "      <th>Glucose</th>\n",
       "      <th>BloodPressure</th>\n",
       "      <th>SkinThickness</th>\n",
       "      <th>Insulin</th>\n",
       "      <th>BMI</th>\n",
       "      <th>DiabetesPedigreeFunction</th>\n",
       "      <th>Age</th>\n",
       "      <th>Outcome</th>\n",
       "    </tr>\n",
       "  </thead>\n",
       "  <tbody>\n",
       "    <tr>\n",
       "      <th>0</th>\n",
       "      <td>6</td>\n",
       "      <td>148</td>\n",
       "      <td>72</td>\n",
       "      <td>35</td>\n",
       "      <td>0</td>\n",
       "      <td>33.6</td>\n",
       "      <td>0.627</td>\n",
       "      <td>50</td>\n",
       "      <td>1</td>\n",
       "    </tr>\n",
       "    <tr>\n",
       "      <th>1</th>\n",
       "      <td>1</td>\n",
       "      <td>85</td>\n",
       "      <td>66</td>\n",
       "      <td>29</td>\n",
       "      <td>0</td>\n",
       "      <td>26.6</td>\n",
       "      <td>0.351</td>\n",
       "      <td>31</td>\n",
       "      <td>0</td>\n",
       "    </tr>\n",
       "    <tr>\n",
       "      <th>2</th>\n",
       "      <td>8</td>\n",
       "      <td>183</td>\n",
       "      <td>64</td>\n",
       "      <td>0</td>\n",
       "      <td>0</td>\n",
       "      <td>23.3</td>\n",
       "      <td>0.672</td>\n",
       "      <td>32</td>\n",
       "      <td>1</td>\n",
       "    </tr>\n",
       "    <tr>\n",
       "      <th>3</th>\n",
       "      <td>1</td>\n",
       "      <td>89</td>\n",
       "      <td>66</td>\n",
       "      <td>23</td>\n",
       "      <td>94</td>\n",
       "      <td>28.1</td>\n",
       "      <td>0.167</td>\n",
       "      <td>21</td>\n",
       "      <td>0</td>\n",
       "    </tr>\n",
       "    <tr>\n",
       "      <th>4</th>\n",
       "      <td>0</td>\n",
       "      <td>137</td>\n",
       "      <td>40</td>\n",
       "      <td>35</td>\n",
       "      <td>168</td>\n",
       "      <td>43.1</td>\n",
       "      <td>2.288</td>\n",
       "      <td>33</td>\n",
       "      <td>1</td>\n",
       "    </tr>\n",
       "  </tbody>\n",
       "</table>\n",
       "</div>"
      ],
      "text/plain": [
       "   Pregnancies  Glucose  BloodPressure  SkinThickness  Insulin   BMI  \\\n",
       "0            6      148             72             35        0  33.6   \n",
       "1            1       85             66             29        0  26.6   \n",
       "2            8      183             64              0        0  23.3   \n",
       "3            1       89             66             23       94  28.1   \n",
       "4            0      137             40             35      168  43.1   \n",
       "\n",
       "   DiabetesPedigreeFunction  Age  Outcome  \n",
       "0                     0.627   50        1  \n",
       "1                     0.351   31        0  \n",
       "2                     0.672   32        1  \n",
       "3                     0.167   21        0  \n",
       "4                     2.288   33        1  "
      ]
     },
     "execution_count": 3,
     "metadata": {},
     "output_type": "execute_result"
    }
   ],
   "source": [
    "diabetes_df = pd.read_csv(\"../Datasets/diabetes.csv\")\n",
    "diabetes_df.head()"
   ]
  },
  {
   "cell_type": "markdown",
   "id": "771e326b",
   "metadata": {},
   "source": [
    "#### 1. Look up the Adam optimization functions in PyTorch https://pytorch.org/docs/stable/optim.html . How does it work? Try at least one other optimization function with the diabetes dataset shown in class. How does the model perform with the new optimizer? Did it perform better or worse than Adam? Why do you think that is?"
   ]
  },
  {
   "cell_type": "code",
   "execution_count": 4,
   "id": "03142ae0",
   "metadata": {},
   "outputs": [],
   "source": [
    "from sklearn.model_selection import train_test_split\n",
    "from sklearn.preprocessing import StandardScaler\n",
    "\n",
    "X = diabetes_df.drop('Outcome', axis=1).values\n",
    "y = diabetes_df['Outcome'].values\n",
    "\n",
    "# Split into training and test set\n",
    "X_train, X_test, y_train, y_test = train_test_split(X, y, test_size = 0.3, random_state=42, stratify=y)\n",
    "\n",
    "# #Standardize\n",
    "sc= StandardScaler()\n",
    "X_train=sc.fit_transform(X_train)\n",
    "X_test=sc.fit_transform(X_test)"
   ]
  },
  {
   "cell_type": "code",
   "execution_count": 5,
   "id": "d6fc9364",
   "metadata": {},
   "outputs": [
    {
     "name": "stdout",
     "output_type": "stream",
     "text": [
      "tensor([[ 0.9314,  2.0179,  0.7807,  ...,  0.4315, -0.3748,  0.6321],\n",
      "        [ 0.6326, -1.1486,  0.4654,  ..., -0.1198, -0.2942,  0.7170],\n",
      "        [-0.5625, -0.4769, -0.2703,  ..., -0.2096,  2.7452,  0.0381],\n",
      "        ...,\n",
      "        [-0.8613, -0.7648,  0.0450,  ...,  0.7648, -0.7838, -0.3014],\n",
      "        [ 0.6326,  2.2099,  1.2010,  ...,  0.4315, -0.6047,  2.7537],\n",
      "        [ 0.0351,  0.7385, -0.5856,  ..., -0.3378, -0.5778,  0.2927]])\n"
     ]
    }
   ],
   "source": [
    "import torch.nn as nn\n",
    "import torch.nn.functional as F \n",
    " \n",
    "X_train = torch.FloatTensor(X_train) \n",
    "X_test = torch.FloatTensor(X_test)\n",
    "\n",
    "y_train = torch.LongTensor(y_train)\n",
    "y_test = torch.LongTensor(y_test)\n",
    "\n",
    "print(X_train)"
   ]
  },
  {
   "cell_type": "code",
   "execution_count": 6,
   "id": "330450a1",
   "metadata": {},
   "outputs": [],
   "source": [
    "class ANN_Model(nn.Module):\n",
    "    def __init__(self, input_features=8,hidden1=20,hidden2=20,out_features=2):\n",
    "        super().__init__() \n",
    "        self.layer_1_connection = nn.Linear(input_features, hidden1)\n",
    "        self.layer_2_connection = nn.Linear(hidden1, hidden2)\n",
    "        self.out = nn.Linear(hidden2, out_features)\n",
    "        \n",
    "    def forward(self, x):\n",
    "        #activation functions\n",
    "        x = F.relu(self.layer_1_connection(x))\n",
    "        x = F.relu(self.layer_2_connection(x))\n",
    "        x = self.out(x)\n",
    "        return x"
   ]
  },
  {
   "cell_type": "code",
   "execution_count": 7,
   "id": "bf6b752e",
   "metadata": {},
   "outputs": [],
   "source": [
    "torch.manual_seed(25)\n",
    "ann = ANN_Model()"
   ]
  },
  {
   "cell_type": "code",
   "execution_count": 28,
   "id": "78d64f55",
   "metadata": {},
   "outputs": [],
   "source": [
    "loss_function = nn.CrossEntropyLoss()\n",
    "\n",
    "optimizer = torch.optim.SGD(ann.parameters(),lr=0.01)"
   ]
  },
  {
   "cell_type": "code",
   "execution_count": 29,
   "id": "1f748ad6",
   "metadata": {},
   "outputs": [
    {
     "name": "stdout",
     "output_type": "stream",
     "text": [
      "Epoch number: 1 with loss: 0.0037098093889653683\n",
      "Epoch number: 11 with loss: 0.003709344659000635\n",
      "Epoch number: 21 with loss: 0.003708251053467393\n",
      "Epoch number: 31 with loss: 0.003707029391080141\n",
      "Epoch number: 41 with loss: 0.0037061069160699844\n",
      "Epoch number: 51 with loss: 0.00370532413944602\n",
      "Epoch number: 61 with loss: 0.003704229136928916\n",
      "Epoch number: 71 with loss: 0.0037038305308669806\n",
      "Epoch number: 81 with loss: 0.003703134134411812\n",
      "Epoch number: 91 with loss: 0.003702182788401842\n",
      "Epoch number: 101 with loss: 0.0037005532067269087\n",
      "Epoch number: 111 with loss: 0.0037003837060183287\n",
      "Epoch number: 121 with loss: 0.0036994400434195995\n",
      "Epoch number: 131 with loss: 0.003698059357702732\n",
      "Epoch number: 141 with loss: 0.003697279142215848\n",
      "Epoch number: 151 with loss: 0.0036970237269997597\n",
      "Epoch number: 161 with loss: 0.00369618134573102\n",
      "Epoch number: 171 with loss: 0.0036946157924830914\n",
      "Epoch number: 181 with loss: 0.003693475853651762\n",
      "Epoch number: 191 with loss: 0.0036928835324943066\n",
      "Epoch number: 201 with loss: 0.0036921286955475807\n",
      "Epoch number: 211 with loss: 0.0036913352087140083\n",
      "Epoch number: 221 with loss: 0.003690154990181327\n",
      "Epoch number: 231 with loss: 0.003689130302518606\n",
      "Epoch number: 241 with loss: 0.003688514232635498\n",
      "Epoch number: 251 with loss: 0.0036873763892799616\n",
      "Epoch number: 261 with loss: 0.00368689326569438\n",
      "Epoch number: 271 with loss: 0.003685699077323079\n",
      "Epoch number: 281 with loss: 0.0036849770694971085\n",
      "Epoch number: 291 with loss: 0.00368404109030962\n",
      "Epoch number: 301 with loss: 0.0036833740305155516\n",
      "Epoch number: 311 with loss: 0.0036821975372731686\n",
      "Epoch number: 321 with loss: 0.00368126155808568\n",
      "Epoch number: 331 with loss: 0.003680428257212043\n",
      "Epoch number: 341 with loss: 0.003679432673379779\n",
      "Epoch number: 351 with loss: 0.003678942332044244\n",
      "Epoch number: 361 with loss: 0.0036779092624783516\n",
      "Epoch number: 371 with loss: 0.0036771981976926327\n",
      "Epoch number: 381 with loss: 0.003675934625789523\n",
      "Epoch number: 391 with loss: 0.003675042185932398\n",
      "Epoch number: 401 with loss: 0.003674381645396352\n",
      "Epoch number: 411 with loss: 0.0036737779155373573\n",
      "Epoch number: 421 with loss: 0.0036724924575537443\n",
      "Epoch number: 431 with loss: 0.0036715338937938213\n",
      "Epoch number: 441 with loss: 0.0036707657855004072\n",
      "Epoch number: 451 with loss: 0.0036700903438031673\n",
      "Epoch number: 461 with loss: 0.003669162280857563\n",
      "Epoch number: 471 with loss: 0.0036682081408798695\n",
      "Epoch number: 481 with loss: 0.003667642595246434\n",
      "Epoch number: 491 with loss: 0.0036663126666098833\n"
     ]
    }
   ],
   "source": [
    "final_loss = []\n",
    "n_epochs = 500\n",
    "for epoch in range(n_epochs):\n",
    "    y_pred = ann.forward(X_train)\n",
    "    loss = loss_function(y_pred, y_train)\n",
    "    final_loss.append(loss)\n",
    "    \n",
    "    if epoch % 10 == 1:\n",
    "        print(f'Epoch number: {epoch} with loss: {loss}')\n",
    "        \n",
    "    optimizer.zero_grad() \n",
    "    loss.backward() \n",
    "    optimizer.step()"
   ]
  },
  {
   "cell_type": "code",
   "execution_count": 30,
   "id": "f8925533",
   "metadata": {},
   "outputs": [],
   "source": [
    "\n",
    "y_pred = []\n",
    "\n",
    "with torch.no_grad():\n",
    "    for i, data in enumerate(X_test):\n",
    "        prediction = ann(data)\n",
    "        y_pred.append(prediction.argmax()) "
   ]
  },
  {
   "cell_type": "code",
   "execution_count": 31,
   "id": "2e18a470",
   "metadata": {},
   "outputs": [
    {
     "name": "stdout",
     "output_type": "stream",
     "text": [
      "              precision    recall  f1-score   support\n",
      "\n",
      "           0       0.77      0.76      0.77       150\n",
      "           1       0.57      0.58      0.57        81\n",
      "\n",
      "    accuracy                           0.70       231\n",
      "   macro avg       0.67      0.67      0.67       231\n",
      "weighted avg       0.70      0.70      0.70       231\n",
      "\n"
     ]
    }
   ],
   "source": [
    "from sklearn.metrics import classification_report\n",
    "\n",
    "print(classification_report(y_test, y_pred))"
   ]
  },
  {
   "cell_type": "markdown",
   "id": "4212da9a",
   "metadata": {},
   "source": [
    "#### 2. Write a function that lists and counts the number of divisors for an input value.\n",
    "    Example 1:\n",
    "    Input: 5\n",
    "    Output: “There are 2 divisors: 1 and 5”\n",
    "    Example 2:\n",
    "    Input: 40\n",
    "    Output: “There are 8 divisors: 1, 2, 4, 5, 8, 10, 20, and 40”"
   ]
  },
  {
   "cell_type": "code",
   "execution_count": 55,
   "id": "8cdedda8",
   "metadata": {},
   "outputs": [
    {
     "name": "stdout",
     "output_type": "stream",
     "text": [
      "There are 2 divisors : 1 and 5\n",
      "There are 8 divisors : 1, 2, 4, 5, 8, 10, 20 and 40\n"
     ]
    }
   ],
   "source": [
    "def divisor(x):\n",
    "    count = 0\n",
    "    div = []\n",
    "    for i in range(1, x+1):\n",
    "        if x % i == 0:\n",
    "            count = count + 1\n",
    "            div.append(i)\n",
    "    one = div[0:-1]\n",
    "    print(\"There are\", count, \"divisors :\",str(one)[1:-1],\"and\",div[-1])\n",
    "       \n",
    "divisor(5)\n",
    "divisor(40)"
   ]
  },
  {
   "cell_type": "code",
   "execution_count": null,
   "id": "38df84e6",
   "metadata": {},
   "outputs": [],
   "source": []
  }
 ],
 "metadata": {
  "kernelspec": {
   "display_name": "Python 3 (ipykernel)",
   "language": "python",
   "name": "python3"
  },
  "language_info": {
   "codemirror_mode": {
    "name": "ipython",
    "version": 3
   },
   "file_extension": ".py",
   "mimetype": "text/x-python",
   "name": "python",
   "nbconvert_exporter": "python",
   "pygments_lexer": "ipython3",
   "version": "3.8.10"
  }
 },
 "nbformat": 4,
 "nbformat_minor": 5
}
